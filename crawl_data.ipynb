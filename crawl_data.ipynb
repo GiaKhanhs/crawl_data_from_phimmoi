{
 "cells": [
  {
   "cell_type": "code",
   "execution_count": 1,
   "metadata": {},
   "outputs": [],
   "source": [
    "import psycopg2"
   ]
  },
  {
   "cell_type": "code",
   "execution_count": 2,
   "metadata": {},
   "outputs": [],
   "source": [
    "import logging\n",
    "import sys\n",
    "\n",
    "logging.basicConfig(stream = sys.stdout, level=logging.DEBUG)\n",
    "logger = logging.getLogger()\n",
    "logger.setLevel(logging.INFO)"
   ]
  },
  {
   "cell_type": "code",
   "execution_count": 3,
   "metadata": {},
   "outputs": [
    {
     "name": "stdout",
     "output_type": "stream",
     "text": [
      "INFO:root:connection log: <connection object at 0x72614d928b80; dsn: 'user=postgres password=xxx dbname=postgres host=introduction-01-intro-ap-southeast-1-dev-introduction-db.cpfm8ml2cxp2.ap-southeast-1.rds.amazonaws.com', closed: 0>\n"
     ]
    }
   ],
   "source": [
    "# Connect to database\n",
    "\n",
    "def create_connection():\n",
    "    connection = psycopg2.connect(\n",
    "        host=\"introduction-01-intro-ap-southeast-1-dev-introduction-db.cpfm8ml2cxp2.ap-southeast-1.rds.amazonaws.com\",\n",
    "        database=\"postgres\",\n",
    "        user=\"postgres\",\n",
    "        password=\"postgres123\"\n",
    "    )\n",
    "    connection.set_session(autocommit=True)\n",
    "    return connection\n",
    "\n",
    "connection = create_connection()\n",
    "logger.info(f\"connection log: {connection}\")"
   ]
  },
  {
   "cell_type": "code",
   "execution_count": 40,
   "metadata": {},
   "outputs": [],
   "source": [
    "event = {\n",
    "    \"urls\" : [\n",
    "        \"https://phimmoiyyy.net/the-loai/phim-chieu-rap\",\n",
    "        \"https://phimmoiiii.net/the-loai/phim-co-trang\",\n",
    "        \"https://phimmoiiii.net/the-loai/phim-hoat-hinh\"\n",
    "\n",
    "    ],\n",
    "    \"table_name\": \"ai4e_movie_giakhanh\",\n",
    "    \"data_field\": [\n",
    "        {\n",
    "            \"field\": \"id\",\n",
    "            \"type\": \"integer\"\n",
    "        },\n",
    "        {\n",
    "            \"field\": \"movie_link\",\n",
    "            \"type\": \"varchar\"\n",
    "        },\n",
    "        {\n",
    "            \"field\": \"poster_image_link\",\n",
    "            \"type\": \"varchar\"\n",
    "        },\n",
    "        {\n",
    "            \"field\":\"movie_name\",\n",
    "            \"type\" : \"varchar\"\n",
    "        },\n",
    "        {\n",
    "            \"field\": \"movie_status\",\n",
    "            \"type\": \"varchar\"\n",
    "        },\n",
    "        {\n",
    "            \"field\": \"en_name\",\n",
    "            \"type\": \"varchar\"\n",
    "        },\n",
    "        {\n",
    "            \"field\": \"vn_name\",\n",
    "            \"type\": \"varchar\"\n",
    "        },\n",
    "        {\n",
    "            \"field\": \"category\",\n",
    "            \"type\": \"varchar\"\n",
    "        }\n",
    "    ]\n",
    "}"
   ]
  },
  {
   "cell_type": "code",
   "execution_count": 41,
   "metadata": {},
   "outputs": [
    {
     "name": "stdout",
     "output_type": "stream",
     "text": [
      "INFO:root:Start create table ai4e_movie_giakhanh\n"
     ]
    }
   ],
   "source": [
    "# Create a table in the database we connected \n",
    "\n",
    "def create_table(connection, table_name, fields):\n",
    "    logger.info(f\"Start create table {table_name}\")\n",
    "    list_field_name_field_type = [f'{field[\"field\"]} {field[\"type\"]}' for field in fields]\n",
    "    result_field_name_field_type = ','.join(list_field_name_field_type)\n",
    "\n",
    "    create_table_str = f\"\"\"\n",
    "        create table if not exists {table_name} (\n",
    "            {result_field_name_field_type}\n",
    "        )\n",
    "    \"\"\"\n",
    "\n",
    "    cursor = connection.cursor()\n",
    "    cursor.execute(create_table_str)\n",
    "\n",
    "\n",
    "table_name = \"ai4e_movie_giakhanh\"\n",
    "fields = event[\"data_field\"]\n",
    "\n",
    "create_table(connection, table_name, fields)"
   ]
  },
  {
   "cell_type": "code",
   "execution_count": 42,
   "metadata": {},
   "outputs": [],
   "source": [
    "import requests\n",
    "import bs4"
   ]
  },
  {
   "cell_type": "code",
   "execution_count": 43,
   "metadata": {},
   "outputs": [
    {
     "name": "stdout",
     "output_type": "stream",
     "text": [
      "29\n",
      "21\n",
      "12\n",
      "[{'id': '16155', 'movie_link': 'https://phimmoiiii.net/phim-le/bua-hinh-nhan', 'poster_image_link': 'https://phimmoiiii.net/wp-content/uploads/2023/04/Bua-Hinh-Nhan.jpg', 'movie_name': 'Bùa Hình Nhân', 'movie_status': 'HD Vietsub', 'en_name': 'Hoon Payon', 'vn_name': 'Bùa Hình Nhân', 'category': 'Phim Chiếu Rạp'}, {'id': '34569', 'movie_link': 'https://phimmoiiii.net/phim-le/hon-ma-khong-dau', 'poster_image_link': 'https://phimmoiiii.net/wp-content/uploads/2022/07/hon-ma-khong-dau.jpg', 'movie_name': 'Hồn Ma Không Đầu', 'movie_status': 'HD Vietsub', 'en_name': 'Ivanna', 'vn_name': 'Hồn Ma Không Đầu', 'category': 'Phim Chiếu Rạp'}, {'id': '3208', 'movie_link': 'https://phimmoiiii.net/phim-le/ma-lai-rut-ruot', 'poster_image_link': 'https://phimmoiiii.net/wp-content/uploads/2023/04/Phim-Ma-Lai-Rut-Ruot.jpg', 'movie_name': 'Ma Lai Rút Ruột', 'movie_status': 'HD Vietsub', 'en_name': 'Inhuman Kiss 2', 'vn_name': 'Ma Lai Rút Ruột', 'category': 'Phim Chiếu Rạp'}, {'id': '31855', 'movie_link': 'https://phimmoiiii.net/phim-le/ma-so-truc-quy', 'poster_image_link': 'https://phimmoiiii.net/wp-content/uploads/2022/11/ma-so-truc-quy.jpg', 'movie_name': 'Ma Sơ Trục Quỷ', 'movie_status': 'Coming Soon', 'en_name': 'La Exorcista', 'vn_name': 'Ma Sơ Trục Quỷ', 'category': 'Phim Chiếu Rạp'}, {'id': '69953', 'movie_link': 'https://phimmoiiii.net/phim-le/yeu-lai-vo-ngau', 'poster_image_link': 'https://phimmoiiii.net/wp-content/uploads/2023/10/Yeu-Lai-Vo-Ngau.jpg', 'movie_name': 'Yêu Lại Vợ Ngầu', 'movie_status': 'HD Vietsub', 'en_name': 'Love Reset', 'vn_name': 'Yêu Lại Vợ Ngầu', 'category': 'Phim Chiếu Rạp'}, {'id': '59535', 'movie_link': 'https://phimmoiiii.net/phim-le/thanh-guom-tru-ta', 'poster_image_link': 'https://phimmoiiii.net/wp-content/uploads/2023/09/Thanh-Guom-Tru-Ta.jpg', 'movie_name': 'Thanh Gươm Trừ Tà', 'movie_status': 'HD Vietsub', 'en_name': 'Dr. Cheon and Lost Talisman', 'vn_name': 'Thanh Gươm Trừ Tà', 'category': 'Phim Chiếu Rạp'}, {'id': '56802', 'movie_link': 'https://phimmoiiii.net/phim-le/paw-patrol-phim-sieu-dang', 'poster_image_link': 'https://phimmoiiii.net/wp-content/uploads/2023/09/PAW-Patrol-Phim-Sieu-Dang.jpg', 'movie_name': 'PAW Patrol: Phim Siêu Đẳng', 'movie_status': 'HD Vietsub', 'en_name': 'PAW Patrol: The Mighty Movie', 'vn_name': 'PAW Patrol: Phim Siêu Đẳng', 'category': 'Phim Chiếu Rạp'}, {'id': '25015', 'movie_link': 'https://phimmoiiii.net/phim-le/livestream', 'poster_image_link': 'https://phimmoiiii.net/wp-content/uploads/2023/06/Live-Stream.jpg', 'movie_name': 'LiveStream', 'movie_status': 'HD Vietsub', 'en_name': 'LiveStream', 'vn_name': 'LiveStream', 'category': 'Phim Chiếu Rạp'}, {'id': '49765', 'movie_link': 'https://phimmoiiii.net/phim-le/bo-doi-bao-thu-155517', 'poster_image_link': 'https://phimmoiiii.net/wp-content/uploads/2023/10/Ransomed.jpg', 'movie_name': 'Bộ Đôi Báo Thủ', 'movie_status': 'HD Vietsub', 'en_name': 'Ransomed', 'vn_name': 'Bộ Đôi Báo Thủ', 'category': 'Phim Chiếu Rạp'}, {'id': '46164', 'movie_link': 'https://phimmoiiii.net/phim-le/dia-dang-sup-do-154151', 'poster_image_link': 'https://phimmoiiii.net/wp-content/uploads/2023/09/dia-dang-sup-do.jpg', 'movie_name': 'Địa Đàng Sụp Đổ', 'movie_status': 'HD Vietsub', 'en_name': 'Concrete Utopia', 'vn_name': 'Địa Đàng Sụp Đổ', 'category': 'Phim Chiếu Rạp'}, {'id': '35054', 'movie_link': 'https://phimmoiiii.net/phim-le/phong-than-1-tam-bo-khuc-541411', 'poster_image_link': 'https://image.tmdb.org/t/p/w185/y4Q4N7S5CozfSxLecUbGhDj3gz4.jpg', 'movie_name': 'Phong Thần 1: Tam Bộ Khúc', 'movie_status': 'HD Vietsub', 'en_name': 'Creation of the Gods 1: Kingdom Of Storms', 'vn_name': 'Phong Thần 1: Tam Bộ Khúc', 'category': 'Phim Chiếu Rạp'}, {'id': '13970', 'movie_link': 'https://phimmoiiii.net/phim-le/tieng-goi-am-binh', 'poster_image_link': 'https://phimmoiiii.net/wp-content/uploads/2023/04/Tieng-goi-am-binh.jpg', 'movie_name': 'Tiếng Gọi Âm Binh', 'movie_status': 'HD Vietsub', 'en_name': 'Khanzab', 'vn_name': 'Tiếng Gọi Âm Binh', 'category': 'Phim Chiếu Rạp'}, {'id': '44631', 'movie_link': 'https://phimmoiiii.net/phim-le/goi-hon-quy-du', 'poster_image_link': 'https://phimmoiiii.net/wp-content/uploads/2023/07/goi-hon-quy-du.jpg', 'movie_name': 'Gọi Hồn Quỷ Dữ', 'movie_status': 'HD Vietsub', 'en_name': 'Talk to Me', 'vn_name': 'Gọi Hồn Quỷ Dữ', 'category': 'Phim Chiếu Rạp'}, {'id': '40251', 'movie_link': 'https://phimmoiiii.net/phim-le/the-moon-nhiem-vu-cuoi-cung', 'poster_image_link': 'https://phimmoiiii.net/wp-content/uploads/2023/08/The-Moon.jpg', 'movie_name': 'The Moon: Nhiệm Vụ Cuối Cùng', 'movie_status': 'HD Vietsub', 'en_name': 'The Moon', 'vn_name': 'The Moon: Nhiệm Vụ Cuối Cùng', 'category': 'Phim Chiếu Rạp'}, {'id': '40945', 'movie_link': 'https://phimmoiiii.net/phim-le/dracula-quy-du-thuc-tinh-11154', 'poster_image_link': 'https://phimmoiiii.net/wp-content/uploads/2023/08/Dracula-Quy-Du-Thuc-Tinh.jpg', 'movie_name': 'Dracula: Quỷ Dữ Thức Tỉnh', 'movie_status': 'HD Vietsub', 'en_name': 'The Last Voyage of the Demeter', 'vn_name': 'Dracula: Quỷ Dữ Thức Tỉnh', 'category': 'Phim Chiếu Rạp'}, {'id': '23746', 'movie_link': 'https://phimmoiiii.net/phim-le/phim-ong-ke', 'poster_image_link': 'https://phimmoiiii.net/wp-content/uploads/2023/06/Phim-ong-ke.jpg', 'movie_name': 'Ông Kẹ', 'movie_status': 'HD Vietsub', 'en_name': 'The Boogeyman', 'vn_name': 'Ông Kẹ', 'category': 'Phim Chiếu Rạp'}, {'id': '25438', 'movie_link': 'https://phimmoiiii.net/phim-le/indiana-jones-5-va-vong-quay-dinh-menh', 'poster_image_link': 'https://phimmoiiii.net/wp-content/uploads/2023/06/Indiana-Jones-va-Vong-Quay-Dinh-Menh.jpg', 'movie_name': 'Indiana Jones 5 và Vòng Quay Định Mệnh', 'movie_status': 'HD Vietsub', 'en_name': 'Indiana Jones 5 and the Dial of Destiny', 'vn_name': 'Indiana Jones 5 và Vòng Quay Định Mệnh', 'category': 'Phim Chiếu Rạp'}, {'id': '35091', 'movie_link': 'https://phimmoiiii.net/phim-le/bao-trang-3', 'poster_image_link': 'https://phimmoiiii.net/wp-content/uploads/2023/07/Bao-trang-3.jpg', 'movie_name': 'Bão Trắng 3', 'movie_status': 'HD Vietsub', 'en_name': 'The White Storm 3: Heaven or Hell', 'vn_name': 'Bão Trắng 3', 'category': 'Phim Chiếu Rạp'}, {'id': '34288', 'movie_link': 'https://phimmoiiii.net/phim-le/quy-cong-tu-154121', 'poster_image_link': 'https://phimmoiiii.net/wp-content/uploads/2023/07/phim-quy-cong-tu.jpg', 'movie_name': 'Quý Công Tử', 'movie_status': 'HD Vietsub', 'en_name': 'The Childe', 'vn_name': 'Quý Công Tử', 'category': 'Phim Chiếu Rạp'}, {'id': '21813', 'movie_link': 'https://phimmoiiii.net/phim-le/ta-chu-cam', 'poster_image_link': 'https://phimmoiiii.net/wp-content/uploads/2023/04/ta-chu-cam.jpg', 'movie_name': 'Tà Chú Cấm', 'movie_status': 'HD Vietsub', 'en_name': 'Home for Rent', 'vn_name': 'Tà Chú Cấm', 'category': 'Phim Chiếu Rạp'}, {'id': '35495', 'movie_link': 'https://phimmoiiii.net/phim-le/vo-danh', 'poster_image_link': 'https://phimmoiiii.net/wp-content/uploads/2023/07/phim-vo-danh.jpg', 'movie_name': 'Vô Danh', 'movie_status': 'HD Vietsub', 'en_name': 'Hidden Blade', 'vn_name': 'Vô Danh', 'category': 'Phim Chiếu Rạp'}, {'id': '34027', 'movie_link': 'https://phimmoiiii.net/phim-le/ruby-thuy-quai-tuoi-teen', 'poster_image_link': 'https://phimmoiiii.net/wp-content/uploads/2023/06/Ruby-Thuy-Quai-Tuoi-Teen.jpg', 'movie_name': 'Ruby Thủy Quái Tuổi Teen', 'movie_status': 'HD Vietsub', 'en_name': 'Ruby Gillman, Teenage Kraken', 'vn_name': 'Ruby Thủy Quái Tuổi Teen', 'category': 'Phim Chiếu Rạp'}, {'id': '32043', 'movie_link': 'https://phimmoiiii.net/phim-le/nha-ga-nuot-chung', 'poster_image_link': 'https://phimmoiiii.net/wp-content/uploads/2022/06/Nha-ga-nuot-chung.jpg', 'movie_name': 'Nhà Ga Nuốt Chửng', 'movie_status': 'HD Vietsub', 'en_name': 'Kisaragi Station', 'vn_name': 'Nhà Ga Nuốt Chửng', 'category': 'Phim Chiếu Rạp'}, {'id': '28899', 'movie_link': 'https://phimmoiiii.net/phim-le/sieu-nhan-cuong-phong-ky-niem-20-nam', 'poster_image_link': 'https://phimmoiiii.net/wp-content/uploads/2023/06/Sieu-nhan-cuong-phong-ky-niem-20-nam.jpg', 'movie_name': 'Siêu Nhân Cuồng Phong Kỷ Niệm 20 Năm', 'movie_status': 'HD Vietsub', 'en_name': 'Ninpu Sentai Hurricaneger: 20 Years After', 'vn_name': 'Siêu Nhân Cuồng Phong Kỷ Niệm 20 Năm', 'category': 'Phim Chiếu Rạp'}, {'id': '13255', 'movie_link': 'https://phimmoiiii.net/phim-le/vay-ham-khong-loi-thoat-717111', 'poster_image_link': 'https://phimmoiiii.net/wp-content/uploads/2023/05/Vay-Ham-Khong-Loi-Thoat.jpg', 'movie_name': 'Vây Hãm: Không Lối Thoát', 'movie_status': 'HD Vietsub', 'en_name': 'The Roundup: No Way Out', 'vn_name': 'Vây Hãm: Không Lối Thoát', 'category': 'Phim Chiếu Rạp'}, {'id': '26677', 'movie_link': 'https://phimmoiiii.net/phim-le/gangnam-that-thu', 'poster_image_link': 'https://phimmoiiii.net/wp-content/uploads/2023/07/Gangnam-That-Thu.jpg', 'movie_name': 'Gangnam Thất Thủ', 'movie_status': 'HD Vietsub', 'en_name': 'Gangnam Zombie', 'vn_name': 'Gangnam Thất Thủ', 'category': 'Phim Chiếu Rạp'}, {'id': '14950', 'movie_link': 'https://phimmoiiii.net/phim-le/quai-vat-song-mekong', 'poster_image_link': 'https://phimmoiiii.net/wp-content/uploads/2023/06/phim-quai-vat-song-me-kong.jpg', 'movie_name': 'Quái Vật Sông Mekong', 'movie_status': 'HD Vietsub', 'en_name': 'The Lake', 'vn_name': 'Quái Vật Sông Mekong', 'category': 'Phim Chiếu Rạp'}, {'id': '4002', 'movie_link': 'https://phimmoiiii.net/phim-le/tram-tau-ma', 'poster_image_link': 'https://phimmoiiii.net/wp-content/uploads/2023/04/Tram-tau-ma.jpg', 'movie_name': 'Trạm Tàu Ma', 'movie_status': 'HD Vietsub', 'en_name': 'The Ghost Station', 'vn_name': 'Trạm Tàu Ma', 'category': 'Phim Chiếu Rạp'}, {'id': '13974', 'movie_link': 'https://phimmoiiii.net/phim-le/oan-hon', 'poster_image_link': 'https://phimmoiiii.net/wp-content/uploads/2023/05/oan-hon.jpg', 'movie_name': 'Oán Hồn', 'movie_status': 'Coming Soon', 'en_name': 'The Creeping', 'vn_name': 'Oán Hồn', 'category': 'Phim Chiếu Rạp'}, {'id': '80857', 'movie_link': 'https://phimmoiiii.net/phim-le/loan-the-dinh-tan-kiem', 'poster_image_link': 'https://image.tmdb.org/t/p/w185/hOg3UtrimcYgiUJDtRw6IyLSN6z.jpg', 'movie_name': 'Loạn Thế Định Tần Kiếm', 'movie_status': 'HD Vietsub', 'en_name': \"The Emperor's Sword\", 'vn_name': 'Loạn Thế Định Tần Kiếm', 'category': 'Phim Cổ Trang'}, {'id': '80855', 'movie_link': 'https://phimmoiiii.net/phim-le/hoa-giang-ho-bat-luong-soai', 'poster_image_link': 'https://image.tmdb.org/t/p/w185/dBg496DxdzOAdvFGp08V2XhTN80.jpg', 'movie_name': 'Họa Giang Hồ: Bất Lương Soái', 'movie_status': 'HD Vietsub', 'en_name': 'The Story of Yuan Tiangang', 'vn_name': 'Họa Giang Hồ: Bất Lương Soái', 'category': 'Phim Cổ Trang'}, {'id': '80174', 'movie_link': 'https://phimmoiiii.net/phim-le/phong-than-hoa-thuong', 'poster_image_link': 'https://image.tmdb.org/t/p/w185/jHKni0n2bB3oIHv3fyKjOGI0LgS.jpg', 'movie_name': 'Phong Thần: Họa Thương', 'movie_status': 'HD Vietsub', 'en_name': 'League of Gods: The Fall of Sheng', 'vn_name': 'Phong Thần: Họa Thương', 'category': 'Phim Cổ Trang'}, {'id': '79763', 'movie_link': 'https://phimmoiiii.net/phim-le/bach-ho-tinh-duyen', 'poster_image_link': 'https://image.tmdb.org/t/p/w185/aZ3BFxzNJ79Jn4zG98eLQdOkiJh.jpg', 'movie_name': 'Bạch Hồ: Tình Duyên', 'movie_status': 'HD Vietsub', 'en_name': 'White Fox', 'vn_name': 'Bạch Hồ: Tình Duyên', 'category': 'Phim Cổ Trang'}, {'id': '65783', 'movie_link': 'https://phimmoiiii.net/phim-le/cuong-thi-tuong-quan', 'poster_image_link': 'https://phimmoiiii.net/wp-content/uploads/2023/11/Cuong-Thi-Tuong-Quan.jpg', 'movie_name': 'Cương Thi Tướng Quân', 'movie_status': 'HD Vietsub', 'en_name': 'Zombie General', 'vn_name': 'Cương Thi Tướng Quân', 'category': 'Phim Cổ Trang'}, {'id': '62255', 'movie_link': 'https://phimmoiiii.net/phim-le/kim-xa-phu-nhan', 'poster_image_link': 'https://phimmoiiii.net/wp-content/uploads/2023/10/Kim-Xa-Phu-Nhan.jpg', 'movie_name': 'Kim Xà Phu Nhân', 'movie_status': 'HD Vietsub', 'en_name': 'Snaker in Golden', 'vn_name': 'Kim Xà Phu Nhân', 'category': 'Phim Cổ Trang'}, {'id': '53181', 'movie_link': 'https://phimmoiiii.net/phim-le/dich-nhan-kiet-muon-duong-am-binh-67115', 'poster_image_link': 'https://phimmoiiii.net/wp-content/uploads/2023/09/Dich-Nhan-Kiet-Muon-Duong-Am-Binh.jpg', 'movie_name': 'Địch Nhân Kiệt: Mượn Đường Âm Binh', 'movie_status': 'HD Vietsub', 'en_name': 'Di Renjie Secret Soldier Borrows the Road', 'vn_name': 'Địch Nhân Kiệt: Mượn Đường Âm Binh', 'category': 'Phim Cổ Trang'}, {'id': '53005', 'movie_link': 'https://phimmoiiii.net/phim-le/nhuc-bo-doan-2', 'poster_image_link': 'https://image.tmdb.org/t/p/w185/mrV7CcjEtuXtXjykopDUiIgIQru.jpg', 'movie_name': 'Nhục Bồ Đoàn 2', 'movie_status': 'HD Vietsub', 'en_name': 'Yu Pui Tsuen 2', 'vn_name': 'Nhục Bồ Đoàn 2', 'category': 'Phim Cổ Trang'}, {'id': '45843', 'movie_link': 'https://phimmoiiii.net/phim-le/phong-than-diet-tru', 'poster_image_link': 'https://phimmoiiii.net/wp-content/uploads/2023/07/Phong-Than-Diet-Tru.jpg', 'movie_name': 'Phong Thần: Diệt Trụ', 'movie_status': 'HD Vietsub', 'en_name': 'League of Gods: Zhou Destruction', 'vn_name': 'Phong Thần: Diệt Trụ', 'category': 'Phim Cổ Trang'}, {'id': '43117', 'movie_link': 'https://phimmoiiii.net/phim-le/ki-mon-phi-giap', 'poster_image_link': 'https://phimmoiiii.net/wp-content/uploads/2023/07/Ky-mon-phi-giap.jpg', 'movie_name': 'Kì Môn Phi Giáp', 'movie_status': 'HD Vietsub', 'en_name': 'Qimen Flying Armor', 'vn_name': 'Kì Môn Phi Giáp', 'category': 'Phim Cổ Trang'}, {'id': '40845', 'movie_link': 'https://phimmoiiii.net/phim-le/ai-no-tan-truyen', 'poster_image_link': 'https://phimmoiiii.net/wp-content/uploads/1984/09/Ai-no-tan-truyen.jpg', 'movie_name': 'Ái Nô Tân Truyện', 'movie_status': 'HD Vietsub', 'en_name': 'Lust for Love of a Chinese Courtesan', 'vn_name': 'Ái Nô Tân Truyện', 'category': 'Phim Cổ Trang'}, {'id': '39159', 'movie_link': 'https://phimmoiiii.net/phim-le/hoa-tam-song-sinh-kiep', 'poster_image_link': 'https://phimmoiiii.net/wp-content/uploads/2023/08/Hoa-Tam-Song-Sinh-Kiep.jpg', 'movie_name': 'Họa Tâm: Song Sinh Kiếp', 'movie_status': 'HD Vietsub', 'en_name': 'Painted Heart: Twin Tribulations', 'vn_name': 'Họa Tâm: Song Sinh Kiếp', 'category': 'Phim Cổ Trang'}, {'id': '36816', 'movie_link': 'https://phimmoiiii.net/phim-le/gia-thien-vung-cam', 'poster_image_link': 'https://phimmoiiii.net/wp-content/uploads/2023/08/gia-thien.jpg', 'movie_name': 'Già Thiên: Vùng Cấm', 'movie_status': 'HD Vietsub', 'en_name': 'Forbidden Zone', 'vn_name': 'Già Thiên: Vùng Cấm', 'category': 'Phim Cổ Trang'}, {'id': '36618', 'movie_link': 'https://phimmoiiii.net/phim-le/ma-dao-tuong-nhan', 'poster_image_link': 'https://phimmoiiii.net/wp-content/uploads/2023/05/ma-dao-thuong-nhan.jpg', 'movie_name': 'Ma Đạo Tượng Nhân', 'movie_status': 'HD Vietsub', 'en_name': 'The Devildom Elephant Man', 'vn_name': 'Ma Đạo Tượng Nhân', 'category': 'Phim Cổ Trang'}, {'id': '34771', 'movie_link': 'https://phimmoiiii.net/phim-le/dich-nhan-kiet-loi-hoa-huyen-long', 'poster_image_link': 'https://image.tmdb.org/t/p/w185/yXypFcN2E0SZJj1uaVdjJ2GHReJ.jpg', 'movie_name': 'Địch Nhân Kiệt: Lôi Hỏa Huyền Long', 'movie_status': 'HD Vietsub', 'en_name': 'Detective Dee and The Dragon of Fire', 'vn_name': 'Địch Nhân Kiệt: Lôi Hỏa Huyền Long', 'category': 'Phim Cổ Trang'}, {'id': '28528', 'movie_link': 'https://phimmoiiii.net/phim-le/lieu-trai-tan-bien-chi-anh-tru', 'poster_image_link': 'https://phimmoiiii.net/wp-content/uploads/2023/05/Lieu-Trai-Tan-Bien-Chi-Anh-Tru.jpg', 'movie_name': 'Liêu Trai Tân Biên Chi Anh Trữ', 'movie_status': 'HD Vietsub', 'en_name': 'Liao Zhai Fox Spirit: Spoony Woman', 'vn_name': 'Liêu Trai Tân Biên Chi Anh Trữ', 'category': 'Phim Cổ Trang'}, {'id': '563', 'movie_link': 'https://phimmoiiii.net/phim-le/kim-binh-mai-1', 'poster_image_link': 'https://phimmoiiii.net/wp-content/uploads/1996/04/kim-binh-mai-1.jpg', 'movie_name': 'Kim Bình Mai 1', 'movie_status': 'HD Vietsub', 'en_name': 'Jin Pin Mei 1', 'vn_name': 'Kim Bình Mai 1', 'category': 'Phim Cổ Trang'}, {'id': '26374', 'movie_link': 'https://phimmoiiii.net/phim-le/dong-du-bat-tien-phuc-ma', 'poster_image_link': 'https://phimmoiiii.net/wp-content/uploads/2023/07/Dong-Du-Bat-Tien-Phuc-Ma.jpg', 'movie_name': 'Đông Du Bát Tiên Phục Ma', 'movie_status': 'HD Vietsub', 'en_name': 'Travel to the East', 'vn_name': 'Đông Du Bát Tiên Phục Ma', 'category': 'Phim Cổ Trang'}, {'id': '1769', 'movie_link': 'https://phimmoiiii.net/phim-le/kim-binh-mai-2-no-le-tinh-yeu', 'poster_image_link': 'https://phimmoiiii.net/wp-content/uploads/2023/04/kim-binh-mai-2-vietsub.jpg', 'movie_name': 'Kim Bình Mai 2: Nô Lệ Tình Yêu', 'movie_status': 'HD Vietsub', 'en_name': 'The Forbidden Legend: Sex & Chopsticks 2', 'vn_name': 'Kim Bình Mai 2: Nô Lệ Tình Yêu', 'category': 'Phim Cổ Trang'}, {'id': '21856', 'movie_link': 'https://phimmoiiii.net/phim-le/quai-vat-bien-sau', 'poster_image_link': 'https://phimmoiiii.net/wp-content/uploads/2023/04/quai-vat-bien-sau.jpg', 'movie_name': 'Quái Vật Biển Sâu', 'movie_status': 'HD Vietsub', 'en_name': 'The Sea Monster', 'vn_name': 'Quái Vật Biển Sâu', 'category': 'Phim Cổ Trang'}, {'id': '21854', 'movie_link': 'https://phimmoiiii.net/phim-le/ky-mon-don-giap-2', 'poster_image_link': 'https://phimmoiiii.net/wp-content/uploads/2023/04/ky-mon-don-giap-2.jpg', 'movie_name': 'Kỳ Môn Độn Giáp 2', 'movie_status': 'HD Vietsub', 'en_name': 'Fantasy Magician 2', 'vn_name': 'Kỳ Môn Độn Giáp 2', 'category': 'Phim Cổ Trang'}, {'id': '67613', 'movie_link': 'https://phimmoiiii.net/phim-le/thieu-nien-va-chim-diec', 'poster_image_link': 'https://phimmoiiii.net/wp-content/uploads/2023/11/Thieu-Nien-Va-Chim-Diec.jpg', 'movie_name': 'Thiếu Niên Và Chim Diệc', 'movie_status': 'CAM Vietsub', 'en_name': 'The Boy and the Heron', 'vn_name': 'Thiếu Niên Và Chim Diệc', 'category': 'Phim Hoạt Hình'}, {'id': '65124', 'movie_link': 'https://phimmoiiii.net/phim-le/chu-tho-nhung', 'poster_image_link': 'https://phimmoiiii.net/wp-content/uploads/2023/11/Chu-Tho-Nhung.jpg', 'movie_name': 'Chú Thỏ Nhung', 'movie_status': 'HD Vietsub', 'en_name': 'The Velveteen Rabbit', 'vn_name': 'Chú Thỏ Nhung', 'category': 'Phim Hoạt Hình'}, {'id': '64976', 'movie_link': 'https://phimmoiiii.net/phim-le/truong-an-ba-van-dam', 'poster_image_link': 'https://phimmoiiii.net/wp-content/uploads/2023/07/Truong-An-Ba-Van-Dam.jpg', 'movie_name': 'Trường An Ba Vạn Dặm', 'movie_status': 'HD Vietsub', 'en_name': 'Chang An', 'vn_name': 'Trường An Ba Vạn Dặm', 'category': 'Phim Hoạt Hình'}, {'id': '56802', 'movie_link': 'https://phimmoiiii.net/phim-le/paw-patrol-phim-sieu-dang', 'poster_image_link': 'https://phimmoiiii.net/wp-content/uploads/2023/09/PAW-Patrol-Phim-Sieu-Dang.jpg', 'movie_name': 'PAW Patrol: Phim Siêu Đẳng', 'movie_status': 'HD Vietsub', 'en_name': 'PAW Patrol: The Mighty Movie', 'vn_name': 'PAW Patrol: Phim Siêu Đẳng', 'category': 'Phim Hoạt Hình'}, {'id': '41827', 'movie_link': 'https://phimmoiiii.net/phim-le/ninja-rua-hon-loan-tuoi-day-thi', 'poster_image_link': 'https://phimmoiiii.net/wp-content/uploads/2023/09/Ninja-Rua-Hon-Loan-Tuoi-Day-Thi.jpg', 'movie_name': 'Ninja Rùa: Hỗn Loạn Tuổi Dậy Thì', 'movie_status': 'HD Vietsub', 'en_name': 'Teenage Mutant Ninja Turtles: Mutant Mayhem', 'vn_name': 'Ninja Rùa: Hỗn Loạn Tuổi Dậy Thì', 'category': 'Phim Hoạt Hình'}, {'id': '38428', 'movie_link': 'https://phimmoiiii.net/phim-le/hau-vuong', 'poster_image_link': 'https://phimmoiiii.net/wp-content/uploads/2023/08/hau-vuong.jpg', 'movie_name': 'Hầu Vương', 'movie_status': 'HD Vietsub', 'en_name': 'The Monkey King', 'vn_name': 'Hầu Vương', 'category': 'Phim Hoạt Hình'}, {'id': '35205', 'movie_link': 'https://phimmoiiii.net/phim-le/lien-minh-cong-ly-the-chien', 'poster_image_link': 'https://phimmoiiii.net/wp-content/uploads/2023/07/Lien-Minh-Cong-Ly-The-Chien.jpg', 'movie_name': 'Liên Minh Công Lý: Thế Chiến', 'movie_status': 'HD Vietsub', 'en_name': 'Justice League: Warworld', 'vn_name': 'Liên Minh Công Lý: Thế Chiến', 'category': 'Phim Hoạt Hình'}, {'id': '34571', 'movie_link': 'https://phimmoiiii.net/phim-le/resident-evil-dao-tu-than', 'poster_image_link': 'https://phimmoiiii.net/wp-content/uploads/2023/06/Resident-Evil-Dao-Tu-Than.jpg', 'movie_name': 'Resident Evil: Đảo Tử Thần', 'movie_status': 'HD Vietsub', 'en_name': 'Resident Evil: Death Island', 'vn_name': 'Resident Evil: Đảo Tử Thần', 'category': 'Phim Hoạt Hình'}, {'id': '34027', 'movie_link': 'https://phimmoiiii.net/phim-le/ruby-thuy-quai-tuoi-teen', 'poster_image_link': 'https://phimmoiiii.net/wp-content/uploads/2023/06/Ruby-Thuy-Quai-Tuoi-Teen.jpg', 'movie_name': 'Ruby Thủy Quái Tuổi Teen', 'movie_status': 'HD Vietsub', 'en_name': 'Ruby Gillman, Teenage Kraken', 'vn_name': 'Ruby Thủy Quái Tuổi Teen', 'category': 'Phim Hoạt Hình'}, {'id': '909', 'movie_link': 'https://phimmoiiii.net/phim-le/khoa-chat-cua-nao-suzume', 'poster_image_link': 'https://phimmoiiii.net/wp-content/uploads/2022/11/Khoa-Chat-Cua-Nao-Suzume-2022.jpg', 'movie_name': 'Khóa Chặt Cửa Nào Suzume', 'movie_status': 'HD Vietsub', 'en_name': 'Suzume No Tojimari', 'vn_name': 'Khóa Chặt Cửa Nào Suzume', 'category': 'Phim Hoạt Hình'}, {'id': '26823', 'movie_link': 'https://phimmoiiii.net/phim-le/nimona', 'poster_image_link': 'https://phimmoiiii.net/wp-content/uploads/2023/06/Nimona.jpg', 'movie_name': 'Nimona', 'movie_status': 'HD Vietsub', 'en_name': 'Nimona', 'vn_name': 'Nimona', 'category': 'Phim Hoạt Hình'}, {'id': '20638', 'movie_link': 'https://phimmoiiii.net/phim-le/black-clover-thanh-kiem-cua-ma-phap-vuong', 'poster_image_link': 'https://phimmoiiii.net/wp-content/uploads/2023/06/Black-Clover-Thanh-Kiem-cua-Ma-Phap-Vuong.jpg', 'movie_name': 'Black Clover: Thanh Kiếm Của Ma Pháp Vương', 'movie_status': 'HD Vietsub', 'en_name': 'Black Clover: Sword of the Wizard King', 'vn_name': 'Black Clover: Thanh Kiếm Của Ma Pháp Vương', 'category': 'Phim Hoạt Hình'}]\n"
     ]
    }
   ],
   "source": [
    "total_movies = []\n",
    "\n",
    "for url in event[\"urls\"]:\n",
    "    info = requests.get(url, headers={})\n",
    "\n",
    "    \n",
    "    soup = bs4.BeautifulSoup(info.content, 'lxml')\n",
    "\n",
    "    movies = soup.find_all(\"article\", {\"class\": \"item movies\"})\n",
    "    category = soup.find(\"div\", {\"class\" : \"content right normal\"}).find(\"h1\").text\n",
    "    print(len(movies))\n",
    "\n",
    "    for movie in movies:\n",
    "        # Take movid_id\n",
    "        movies_id = movie[\"id\"].split(\"-\")[1]\n",
    "\n",
    "        # Take movie_link\n",
    "        movie_footer = movie.find('div', {\"class\": \"data\"})\n",
    "        movie_link = movie_footer.find(\"a\")[\"href\"]\n",
    "\n",
    "        # Take poster_image_link\n",
    "        poster_image_link = movie.find(\"img\")[\"src\"]\n",
    "\n",
    "        # Take en_name\n",
    "        span_tag = movie.find(\"span\").find(\"span\")\n",
    "        name_with_year = span_tag.text\n",
    "        name_parts = name_with_year.split()[:-1]\n",
    "        en_name = \" \".join(name_parts)\n",
    "\n",
    "        #Take movie_status\n",
    "        movie_status = movie.find(\"div\", {\"class\":\"trangthai\"}).text\n",
    "\n",
    "        #Take vn_name\n",
    "        vn_name = movie.find(\"div\",{\"class\":\"data\"}).find(\"a\").text\n",
    "\n",
    "        #Take movie_name \n",
    "        movie_name = movie.find(\"img\")[\"alt\"]\n",
    "\n",
    "        #Take category\n",
    "        category = category\n",
    "\n",
    "        movie_dict = {\n",
    "            \"id\": movies_id,\n",
    "            \"movie_link\": movie_link,\n",
    "            \"poster_image_link\": poster_image_link,\n",
    "            \"movie_name\": movie_name,\n",
    "            \"movie_status\": movie_status,\n",
    "            \"en_name\": en_name,\n",
    "            \"vn_name\": vn_name,\n",
    "            \"category\": category\n",
    "        }\n",
    "        total_movies.append(movie_dict)\n",
    "\n",
    "print(total_movies)"
   ]
  },
  {
   "cell_type": "code",
   "execution_count": 48,
   "metadata": {},
   "outputs": [],
   "source": [
    "# Process the single quote in data\n",
    "\n",
    "for i in total_movies:\n",
    "    for k, v in i.items():\n",
    "        i[k] = v.replace(\"'\", \"''\")"
   ]
  },
  {
   "cell_type": "code",
   "execution_count": 50,
   "metadata": {},
   "outputs": [
    {
     "name": "stdout",
     "output_type": "stream",
     "text": [
      "INFO:root:Start insert data into table ai4e_movie_giakhanh\n",
      "\n",
      "        INSERT INTO ai4e_movie_giakhanh (id,movie_link,poster_image_link,movie_name,movie_status,en_name,vn_name,category)\n",
      "        VALUES (16155, 'https://phimmoiiii.net/phim-le/bua-hinh-nhan', 'https://phimmoiiii.net/wp-content/uploads/2023/04/Bua-Hinh-Nhan.jpg', 'Bùa Hình Nhân', 'HD Vietsub', 'Hoon Payon', 'Bùa Hình Nhân', 'Phim Chiếu Rạp'),(34569, 'https://phimmoiiii.net/phim-le/hon-ma-khong-dau', 'https://phimmoiiii.net/wp-content/uploads/2022/07/hon-ma-khong-dau.jpg', 'Hồn Ma Không Đầu', 'HD Vietsub', 'Ivanna', 'Hồn Ma Không Đầu', 'Phim Chiếu Rạp'),(3208, 'https://phimmoiiii.net/phim-le/ma-lai-rut-ruot', 'https://phimmoiiii.net/wp-content/uploads/2023/04/Phim-Ma-Lai-Rut-Ruot.jpg', 'Ma Lai Rút Ruột', 'HD Vietsub', 'Inhuman Kiss 2', 'Ma Lai Rút Ruột', 'Phim Chiếu Rạp'),(31855, 'https://phimmoiiii.net/phim-le/ma-so-truc-quy', 'https://phimmoiiii.net/wp-content/uploads/2022/11/ma-so-truc-quy.jpg', 'Ma Sơ Trục Quỷ', 'Coming Soon', 'La Exorcista', 'Ma Sơ Trục Quỷ', 'Phim Chiếu Rạp'),(69953, 'https://phimmoiiii.net/phim-le/yeu-lai-vo-ngau', 'https://phimmoiiii.net/wp-content/uploads/2023/10/Yeu-Lai-Vo-Ngau.jpg', 'Yêu Lại Vợ Ngầu', 'HD Vietsub', 'Love Reset', 'Yêu Lại Vợ Ngầu', 'Phim Chiếu Rạp'),(59535, 'https://phimmoiiii.net/phim-le/thanh-guom-tru-ta', 'https://phimmoiiii.net/wp-content/uploads/2023/09/Thanh-Guom-Tru-Ta.jpg', 'Thanh Gươm Trừ Tà', 'HD Vietsub', 'Dr. Cheon and Lost Talisman', 'Thanh Gươm Trừ Tà', 'Phim Chiếu Rạp'),(56802, 'https://phimmoiiii.net/phim-le/paw-patrol-phim-sieu-dang', 'https://phimmoiiii.net/wp-content/uploads/2023/09/PAW-Patrol-Phim-Sieu-Dang.jpg', 'PAW Patrol: Phim Siêu Đẳng', 'HD Vietsub', 'PAW Patrol: The Mighty Movie', 'PAW Patrol: Phim Siêu Đẳng', 'Phim Chiếu Rạp'),(25015, 'https://phimmoiiii.net/phim-le/livestream', 'https://phimmoiiii.net/wp-content/uploads/2023/06/Live-Stream.jpg', 'LiveStream', 'HD Vietsub', 'LiveStream', 'LiveStream', 'Phim Chiếu Rạp'),(49765, 'https://phimmoiiii.net/phim-le/bo-doi-bao-thu-155517', 'https://phimmoiiii.net/wp-content/uploads/2023/10/Ransomed.jpg', 'Bộ Đôi Báo Thủ', 'HD Vietsub', 'Ransomed', 'Bộ Đôi Báo Thủ', 'Phim Chiếu Rạp'),(46164, 'https://phimmoiiii.net/phim-le/dia-dang-sup-do-154151', 'https://phimmoiiii.net/wp-content/uploads/2023/09/dia-dang-sup-do.jpg', 'Địa Đàng Sụp Đổ', 'HD Vietsub', 'Concrete Utopia', 'Địa Đàng Sụp Đổ', 'Phim Chiếu Rạp'),(35054, 'https://phimmoiiii.net/phim-le/phong-than-1-tam-bo-khuc-541411', 'https://image.tmdb.org/t/p/w185/y4Q4N7S5CozfSxLecUbGhDj3gz4.jpg', 'Phong Thần 1: Tam Bộ Khúc', 'HD Vietsub', 'Creation of the Gods 1: Kingdom Of Storms', 'Phong Thần 1: Tam Bộ Khúc', 'Phim Chiếu Rạp'),(13970, 'https://phimmoiiii.net/phim-le/tieng-goi-am-binh', 'https://phimmoiiii.net/wp-content/uploads/2023/04/Tieng-goi-am-binh.jpg', 'Tiếng Gọi Âm Binh', 'HD Vietsub', 'Khanzab', 'Tiếng Gọi Âm Binh', 'Phim Chiếu Rạp'),(44631, 'https://phimmoiiii.net/phim-le/goi-hon-quy-du', 'https://phimmoiiii.net/wp-content/uploads/2023/07/goi-hon-quy-du.jpg', 'Gọi Hồn Quỷ Dữ', 'HD Vietsub', 'Talk to Me', 'Gọi Hồn Quỷ Dữ', 'Phim Chiếu Rạp'),(40251, 'https://phimmoiiii.net/phim-le/the-moon-nhiem-vu-cuoi-cung', 'https://phimmoiiii.net/wp-content/uploads/2023/08/The-Moon.jpg', 'The Moon: Nhiệm Vụ Cuối Cùng', 'HD Vietsub', 'The Moon', 'The Moon: Nhiệm Vụ Cuối Cùng', 'Phim Chiếu Rạp'),(40945, 'https://phimmoiiii.net/phim-le/dracula-quy-du-thuc-tinh-11154', 'https://phimmoiiii.net/wp-content/uploads/2023/08/Dracula-Quy-Du-Thuc-Tinh.jpg', 'Dracula: Quỷ Dữ Thức Tỉnh', 'HD Vietsub', 'The Last Voyage of the Demeter', 'Dracula: Quỷ Dữ Thức Tỉnh', 'Phim Chiếu Rạp'),(23746, 'https://phimmoiiii.net/phim-le/phim-ong-ke', 'https://phimmoiiii.net/wp-content/uploads/2023/06/Phim-ong-ke.jpg', 'Ông Kẹ', 'HD Vietsub', 'The Boogeyman', 'Ông Kẹ', 'Phim Chiếu Rạp'),(25438, 'https://phimmoiiii.net/phim-le/indiana-jones-5-va-vong-quay-dinh-menh', 'https://phimmoiiii.net/wp-content/uploads/2023/06/Indiana-Jones-va-Vong-Quay-Dinh-Menh.jpg', 'Indiana Jones 5 và Vòng Quay Định Mệnh', 'HD Vietsub', 'Indiana Jones 5 and the Dial of Destiny', 'Indiana Jones 5 và Vòng Quay Định Mệnh', 'Phim Chiếu Rạp'),(35091, 'https://phimmoiiii.net/phim-le/bao-trang-3', 'https://phimmoiiii.net/wp-content/uploads/2023/07/Bao-trang-3.jpg', 'Bão Trắng 3', 'HD Vietsub', 'The White Storm 3: Heaven or Hell', 'Bão Trắng 3', 'Phim Chiếu Rạp'),(34288, 'https://phimmoiiii.net/phim-le/quy-cong-tu-154121', 'https://phimmoiiii.net/wp-content/uploads/2023/07/phim-quy-cong-tu.jpg', 'Quý Công Tử', 'HD Vietsub', 'The Childe', 'Quý Công Tử', 'Phim Chiếu Rạp'),(21813, 'https://phimmoiiii.net/phim-le/ta-chu-cam', 'https://phimmoiiii.net/wp-content/uploads/2023/04/ta-chu-cam.jpg', 'Tà Chú Cấm', 'HD Vietsub', 'Home for Rent', 'Tà Chú Cấm', 'Phim Chiếu Rạp'),(35495, 'https://phimmoiiii.net/phim-le/vo-danh', 'https://phimmoiiii.net/wp-content/uploads/2023/07/phim-vo-danh.jpg', 'Vô Danh', 'HD Vietsub', 'Hidden Blade', 'Vô Danh', 'Phim Chiếu Rạp'),(34027, 'https://phimmoiiii.net/phim-le/ruby-thuy-quai-tuoi-teen', 'https://phimmoiiii.net/wp-content/uploads/2023/06/Ruby-Thuy-Quai-Tuoi-Teen.jpg', 'Ruby Thủy Quái Tuổi Teen', 'HD Vietsub', 'Ruby Gillman, Teenage Kraken', 'Ruby Thủy Quái Tuổi Teen', 'Phim Chiếu Rạp'),(32043, 'https://phimmoiiii.net/phim-le/nha-ga-nuot-chung', 'https://phimmoiiii.net/wp-content/uploads/2022/06/Nha-ga-nuot-chung.jpg', 'Nhà Ga Nuốt Chửng', 'HD Vietsub', 'Kisaragi Station', 'Nhà Ga Nuốt Chửng', 'Phim Chiếu Rạp'),(28899, 'https://phimmoiiii.net/phim-le/sieu-nhan-cuong-phong-ky-niem-20-nam', 'https://phimmoiiii.net/wp-content/uploads/2023/06/Sieu-nhan-cuong-phong-ky-niem-20-nam.jpg', 'Siêu Nhân Cuồng Phong Kỷ Niệm 20 Năm', 'HD Vietsub', 'Ninpu Sentai Hurricaneger: 20 Years After', 'Siêu Nhân Cuồng Phong Kỷ Niệm 20 Năm', 'Phim Chiếu Rạp'),(13255, 'https://phimmoiiii.net/phim-le/vay-ham-khong-loi-thoat-717111', 'https://phimmoiiii.net/wp-content/uploads/2023/05/Vay-Ham-Khong-Loi-Thoat.jpg', 'Vây Hãm: Không Lối Thoát', 'HD Vietsub', 'The Roundup: No Way Out', 'Vây Hãm: Không Lối Thoát', 'Phim Chiếu Rạp'),(26677, 'https://phimmoiiii.net/phim-le/gangnam-that-thu', 'https://phimmoiiii.net/wp-content/uploads/2023/07/Gangnam-That-Thu.jpg', 'Gangnam Thất Thủ', 'HD Vietsub', 'Gangnam Zombie', 'Gangnam Thất Thủ', 'Phim Chiếu Rạp'),(14950, 'https://phimmoiiii.net/phim-le/quai-vat-song-mekong', 'https://phimmoiiii.net/wp-content/uploads/2023/06/phim-quai-vat-song-me-kong.jpg', 'Quái Vật Sông Mekong', 'HD Vietsub', 'The Lake', 'Quái Vật Sông Mekong', 'Phim Chiếu Rạp'),(4002, 'https://phimmoiiii.net/phim-le/tram-tau-ma', 'https://phimmoiiii.net/wp-content/uploads/2023/04/Tram-tau-ma.jpg', 'Trạm Tàu Ma', 'HD Vietsub', 'The Ghost Station', 'Trạm Tàu Ma', 'Phim Chiếu Rạp'),(13974, 'https://phimmoiiii.net/phim-le/oan-hon', 'https://phimmoiiii.net/wp-content/uploads/2023/05/oan-hon.jpg', 'Oán Hồn', 'Coming Soon', 'The Creeping', 'Oán Hồn', 'Phim Chiếu Rạp'),(80857, 'https://phimmoiiii.net/phim-le/loan-the-dinh-tan-kiem', 'https://image.tmdb.org/t/p/w185/hOg3UtrimcYgiUJDtRw6IyLSN6z.jpg', 'Loạn Thế Định Tần Kiếm', 'HD Vietsub', 'The Emperor''s Sword', 'Loạn Thế Định Tần Kiếm', 'Phim Cổ Trang'),(80855, 'https://phimmoiiii.net/phim-le/hoa-giang-ho-bat-luong-soai', 'https://image.tmdb.org/t/p/w185/dBg496DxdzOAdvFGp08V2XhTN80.jpg', 'Họa Giang Hồ: Bất Lương Soái', 'HD Vietsub', 'The Story of Yuan Tiangang', 'Họa Giang Hồ: Bất Lương Soái', 'Phim Cổ Trang'),(80174, 'https://phimmoiiii.net/phim-le/phong-than-hoa-thuong', 'https://image.tmdb.org/t/p/w185/jHKni0n2bB3oIHv3fyKjOGI0LgS.jpg', 'Phong Thần: Họa Thương', 'HD Vietsub', 'League of Gods: The Fall of Sheng', 'Phong Thần: Họa Thương', 'Phim Cổ Trang'),(79763, 'https://phimmoiiii.net/phim-le/bach-ho-tinh-duyen', 'https://image.tmdb.org/t/p/w185/aZ3BFxzNJ79Jn4zG98eLQdOkiJh.jpg', 'Bạch Hồ: Tình Duyên', 'HD Vietsub', 'White Fox', 'Bạch Hồ: Tình Duyên', 'Phim Cổ Trang'),(65783, 'https://phimmoiiii.net/phim-le/cuong-thi-tuong-quan', 'https://phimmoiiii.net/wp-content/uploads/2023/11/Cuong-Thi-Tuong-Quan.jpg', 'Cương Thi Tướng Quân', 'HD Vietsub', 'Zombie General', 'Cương Thi Tướng Quân', 'Phim Cổ Trang'),(62255, 'https://phimmoiiii.net/phim-le/kim-xa-phu-nhan', 'https://phimmoiiii.net/wp-content/uploads/2023/10/Kim-Xa-Phu-Nhan.jpg', 'Kim Xà Phu Nhân', 'HD Vietsub', 'Snaker in Golden', 'Kim Xà Phu Nhân', 'Phim Cổ Trang'),(53181, 'https://phimmoiiii.net/phim-le/dich-nhan-kiet-muon-duong-am-binh-67115', 'https://phimmoiiii.net/wp-content/uploads/2023/09/Dich-Nhan-Kiet-Muon-Duong-Am-Binh.jpg', 'Địch Nhân Kiệt: Mượn Đường Âm Binh', 'HD Vietsub', 'Di Renjie Secret Soldier Borrows the Road', 'Địch Nhân Kiệt: Mượn Đường Âm Binh', 'Phim Cổ Trang'),(53005, 'https://phimmoiiii.net/phim-le/nhuc-bo-doan-2', 'https://image.tmdb.org/t/p/w185/mrV7CcjEtuXtXjykopDUiIgIQru.jpg', 'Nhục Bồ Đoàn 2', 'HD Vietsub', 'Yu Pui Tsuen 2', 'Nhục Bồ Đoàn 2', 'Phim Cổ Trang'),(45843, 'https://phimmoiiii.net/phim-le/phong-than-diet-tru', 'https://phimmoiiii.net/wp-content/uploads/2023/07/Phong-Than-Diet-Tru.jpg', 'Phong Thần: Diệt Trụ', 'HD Vietsub', 'League of Gods: Zhou Destruction', 'Phong Thần: Diệt Trụ', 'Phim Cổ Trang'),(43117, 'https://phimmoiiii.net/phim-le/ki-mon-phi-giap', 'https://phimmoiiii.net/wp-content/uploads/2023/07/Ky-mon-phi-giap.jpg', 'Kì Môn Phi Giáp', 'HD Vietsub', 'Qimen Flying Armor', 'Kì Môn Phi Giáp', 'Phim Cổ Trang'),(40845, 'https://phimmoiiii.net/phim-le/ai-no-tan-truyen', 'https://phimmoiiii.net/wp-content/uploads/1984/09/Ai-no-tan-truyen.jpg', 'Ái Nô Tân Truyện', 'HD Vietsub', 'Lust for Love of a Chinese Courtesan', 'Ái Nô Tân Truyện', 'Phim Cổ Trang'),(39159, 'https://phimmoiiii.net/phim-le/hoa-tam-song-sinh-kiep', 'https://phimmoiiii.net/wp-content/uploads/2023/08/Hoa-Tam-Song-Sinh-Kiep.jpg', 'Họa Tâm: Song Sinh Kiếp', 'HD Vietsub', 'Painted Heart: Twin Tribulations', 'Họa Tâm: Song Sinh Kiếp', 'Phim Cổ Trang'),(36816, 'https://phimmoiiii.net/phim-le/gia-thien-vung-cam', 'https://phimmoiiii.net/wp-content/uploads/2023/08/gia-thien.jpg', 'Già Thiên: Vùng Cấm', 'HD Vietsub', 'Forbidden Zone', 'Già Thiên: Vùng Cấm', 'Phim Cổ Trang'),(36618, 'https://phimmoiiii.net/phim-le/ma-dao-tuong-nhan', 'https://phimmoiiii.net/wp-content/uploads/2023/05/ma-dao-thuong-nhan.jpg', 'Ma Đạo Tượng Nhân', 'HD Vietsub', 'The Devildom Elephant Man', 'Ma Đạo Tượng Nhân', 'Phim Cổ Trang'),(34771, 'https://phimmoiiii.net/phim-le/dich-nhan-kiet-loi-hoa-huyen-long', 'https://image.tmdb.org/t/p/w185/yXypFcN2E0SZJj1uaVdjJ2GHReJ.jpg', 'Địch Nhân Kiệt: Lôi Hỏa Huyền Long', 'HD Vietsub', 'Detective Dee and The Dragon of Fire', 'Địch Nhân Kiệt: Lôi Hỏa Huyền Long', 'Phim Cổ Trang'),(28528, 'https://phimmoiiii.net/phim-le/lieu-trai-tan-bien-chi-anh-tru', 'https://phimmoiiii.net/wp-content/uploads/2023/05/Lieu-Trai-Tan-Bien-Chi-Anh-Tru.jpg', 'Liêu Trai Tân Biên Chi Anh Trữ', 'HD Vietsub', 'Liao Zhai Fox Spirit: Spoony Woman', 'Liêu Trai Tân Biên Chi Anh Trữ', 'Phim Cổ Trang'),(563, 'https://phimmoiiii.net/phim-le/kim-binh-mai-1', 'https://phimmoiiii.net/wp-content/uploads/1996/04/kim-binh-mai-1.jpg', 'Kim Bình Mai 1', 'HD Vietsub', 'Jin Pin Mei 1', 'Kim Bình Mai 1', 'Phim Cổ Trang'),(26374, 'https://phimmoiiii.net/phim-le/dong-du-bat-tien-phuc-ma', 'https://phimmoiiii.net/wp-content/uploads/2023/07/Dong-Du-Bat-Tien-Phuc-Ma.jpg', 'Đông Du Bát Tiên Phục Ma', 'HD Vietsub', 'Travel to the East', 'Đông Du Bát Tiên Phục Ma', 'Phim Cổ Trang'),(1769, 'https://phimmoiiii.net/phim-le/kim-binh-mai-2-no-le-tinh-yeu', 'https://phimmoiiii.net/wp-content/uploads/2023/04/kim-binh-mai-2-vietsub.jpg', 'Kim Bình Mai 2: Nô Lệ Tình Yêu', 'HD Vietsub', 'The Forbidden Legend: Sex & Chopsticks 2', 'Kim Bình Mai 2: Nô Lệ Tình Yêu', 'Phim Cổ Trang'),(21856, 'https://phimmoiiii.net/phim-le/quai-vat-bien-sau', 'https://phimmoiiii.net/wp-content/uploads/2023/04/quai-vat-bien-sau.jpg', 'Quái Vật Biển Sâu', 'HD Vietsub', 'The Sea Monster', 'Quái Vật Biển Sâu', 'Phim Cổ Trang'),(21854, 'https://phimmoiiii.net/phim-le/ky-mon-don-giap-2', 'https://phimmoiiii.net/wp-content/uploads/2023/04/ky-mon-don-giap-2.jpg', 'Kỳ Môn Độn Giáp 2', 'HD Vietsub', 'Fantasy Magician 2', 'Kỳ Môn Độn Giáp 2', 'Phim Cổ Trang'),(67613, 'https://phimmoiiii.net/phim-le/thieu-nien-va-chim-diec', 'https://phimmoiiii.net/wp-content/uploads/2023/11/Thieu-Nien-Va-Chim-Diec.jpg', 'Thiếu Niên Và Chim Diệc', 'CAM Vietsub', 'The Boy and the Heron', 'Thiếu Niên Và Chim Diệc', 'Phim Hoạt Hình'),(65124, 'https://phimmoiiii.net/phim-le/chu-tho-nhung', 'https://phimmoiiii.net/wp-content/uploads/2023/11/Chu-Tho-Nhung.jpg', 'Chú Thỏ Nhung', 'HD Vietsub', 'The Velveteen Rabbit', 'Chú Thỏ Nhung', 'Phim Hoạt Hình'),(64976, 'https://phimmoiiii.net/phim-le/truong-an-ba-van-dam', 'https://phimmoiiii.net/wp-content/uploads/2023/07/Truong-An-Ba-Van-Dam.jpg', 'Trường An Ba Vạn Dặm', 'HD Vietsub', 'Chang An', 'Trường An Ba Vạn Dặm', 'Phim Hoạt Hình'),(56802, 'https://phimmoiiii.net/phim-le/paw-patrol-phim-sieu-dang', 'https://phimmoiiii.net/wp-content/uploads/2023/09/PAW-Patrol-Phim-Sieu-Dang.jpg', 'PAW Patrol: Phim Siêu Đẳng', 'HD Vietsub', 'PAW Patrol: The Mighty Movie', 'PAW Patrol: Phim Siêu Đẳng', 'Phim Hoạt Hình'),(41827, 'https://phimmoiiii.net/phim-le/ninja-rua-hon-loan-tuoi-day-thi', 'https://phimmoiiii.net/wp-content/uploads/2023/09/Ninja-Rua-Hon-Loan-Tuoi-Day-Thi.jpg', 'Ninja Rùa: Hỗn Loạn Tuổi Dậy Thì', 'HD Vietsub', 'Teenage Mutant Ninja Turtles: Mutant Mayhem', 'Ninja Rùa: Hỗn Loạn Tuổi Dậy Thì', 'Phim Hoạt Hình'),(38428, 'https://phimmoiiii.net/phim-le/hau-vuong', 'https://phimmoiiii.net/wp-content/uploads/2023/08/hau-vuong.jpg', 'Hầu Vương', 'HD Vietsub', 'The Monkey King', 'Hầu Vương', 'Phim Hoạt Hình'),(35205, 'https://phimmoiiii.net/phim-le/lien-minh-cong-ly-the-chien', 'https://phimmoiiii.net/wp-content/uploads/2023/07/Lien-Minh-Cong-Ly-The-Chien.jpg', 'Liên Minh Công Lý: Thế Chiến', 'HD Vietsub', 'Justice League: Warworld', 'Liên Minh Công Lý: Thế Chiến', 'Phim Hoạt Hình'),(34571, 'https://phimmoiiii.net/phim-le/resident-evil-dao-tu-than', 'https://phimmoiiii.net/wp-content/uploads/2023/06/Resident-Evil-Dao-Tu-Than.jpg', 'Resident Evil: Đảo Tử Thần', 'HD Vietsub', 'Resident Evil: Death Island', 'Resident Evil: Đảo Tử Thần', 'Phim Hoạt Hình'),(34027, 'https://phimmoiiii.net/phim-le/ruby-thuy-quai-tuoi-teen', 'https://phimmoiiii.net/wp-content/uploads/2023/06/Ruby-Thuy-Quai-Tuoi-Teen.jpg', 'Ruby Thủy Quái Tuổi Teen', 'HD Vietsub', 'Ruby Gillman, Teenage Kraken', 'Ruby Thủy Quái Tuổi Teen', 'Phim Hoạt Hình'),(909, 'https://phimmoiiii.net/phim-le/khoa-chat-cua-nao-suzume', 'https://phimmoiiii.net/wp-content/uploads/2022/11/Khoa-Chat-Cua-Nao-Suzume-2022.jpg', 'Khóa Chặt Cửa Nào Suzume', 'HD Vietsub', 'Suzume No Tojimari', 'Khóa Chặt Cửa Nào Suzume', 'Phim Hoạt Hình'),(26823, 'https://phimmoiiii.net/phim-le/nimona', 'https://phimmoiiii.net/wp-content/uploads/2023/06/Nimona.jpg', 'Nimona', 'HD Vietsub', 'Nimona', 'Nimona', 'Phim Hoạt Hình'),(20638, 'https://phimmoiiii.net/phim-le/black-clover-thanh-kiem-cua-ma-phap-vuong', 'https://phimmoiiii.net/wp-content/uploads/2023/06/Black-Clover-Thanh-Kiem-cua-Ma-Phap-Vuong.jpg', 'Black Clover: Thanh Kiếm Của Ma Pháp Vương', 'HD Vietsub', 'Black Clover: Sword of the Wizard King', 'Black Clover: Thanh Kiếm Của Ma Pháp Vương', 'Phim Hoạt Hình');\n",
      "    \n"
     ]
    }
   ],
   "source": [
    "# Insert to database\n",
    "\n",
    "def insert_database(connection, table_name, data_movies):\n",
    "    logger.info(f\"Start insert data into table {table_name}\")\n",
    "    list_field_name = [f'{field[\"field\"]}' for field in event[\"data_field\"]]\n",
    "    result_field_name = ','.join(list_field_name)\n",
    "\n",
    "    data_insert = [f\"({item['id']}, '{item['movie_link']}', '{item['poster_image_link']}', '{item['movie_name']}', '{item['movie_status']}', '{item['en_name']}', '{item['vn_name']}', '{item['category']}')\" for item in total_movies]\n",
    "    \n",
    "    result_insert = \",\".join(data_insert)\n",
    "    \n",
    "    sql_insert = f\"\"\"\n",
    "        INSERT INTO {table_name} ({result_field_name})\n",
    "        VALUES {result_insert};\n",
    "    \"\"\"\n",
    "    print(sql_insert)\n",
    "    cursor = connection.cursor()\n",
    "    cursor.execute(sql_insert)\n",
    "\n",
    "insert_database(connection, table_name, total_movies)"
   ]
  }
 ],
 "metadata": {
  "kernelspec": {
   "display_name": "Python 3",
   "language": "python",
   "name": "python3"
  },
  "language_info": {
   "codemirror_mode": {
    "name": "ipython",
    "version": 3
   },
   "file_extension": ".py",
   "mimetype": "text/x-python",
   "name": "python",
   "nbconvert_exporter": "python",
   "pygments_lexer": "ipython3",
   "version": "3.10.12"
  }
 },
 "nbformat": 4,
 "nbformat_minor": 2
}
